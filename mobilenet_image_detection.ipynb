{
 "cells": [
  {
   "cell_type": "code",
   "execution_count": null,
   "id": "46731f9e-3bde-4b4d-b97b-9e769bb4fd76",
   "metadata": {},
   "outputs": [
    {
     "name": "stderr",
     "output_type": "stream",
     "text": [
      "2024-11-18 14:01:21.026419: I tensorflow/core/platform/cpu_feature_guard.cc:210] This TensorFlow binary is optimized to use available CPU instructions in performance-critical operations.\n",
      "To enable the following instructions: AVX2 AVX512F AVX512_VNNI FMA, in other operations, rebuild TensorFlow with the appropriate compiler flags.\n"
     ]
    }
   ],
   "source": [
    "import numpy as np\n",
    "import requests\n",
    "import tensorflow as tf\n",
    "from tensorflow.keras.preprocessing import image\n",
    "from tensorflow.keras.applications.mobilenet_v2 import MobileNetV2, preprocess_input, decode_predictions\n",
    "import matplotlib.pyplot as plt\n",
    "from io import BytesIO\n",
    "\n",
    "# Step 1: Function to fetch image from URL\n",
    "def fetch_image_from_url(url):\n",
    "    \"\"\"\n",
    "    Fetches an image from the URL and converts it into a format that TensorFlow can handle.\n",
    "    \"\"\"\n",
    "    response = requests.get(url)\n",
    "    image_data = BytesIO(response.content)  # Convert to BytesIO object\n",
    "    img = image.load_img(image_data, target_size=(224, 224))  # Load image with target size (224x224)\n",
    "    return img\n",
    "\n",
    "# Step 2: Preprocess the image for MobileNetV2\n",
    "def preprocess_image(img):\n",
    "    \"\"\"\n",
    "    Converts the image into a format that MobileNetV2 can understand (preprocessing).\n",
    "    \"\"\"\n",
    "    img_array = image.img_to_array(img)  # Convert image to numpy array\n",
    "    img_array = np.expand_dims(img_array, axis=0)  # Add batch dimension (MobileNetV2 expects a batch)\n",
    "    img_array = preprocess_input(img_array)  # Preprocess the image for MobileNetV2\n",
    "    return img_array\n",
    "\n",
    "# Step 3: Use MobileNetV2 to predict the class of the image\n",
    "def classify_image(img_array):\n",
    "    \"\"\"\n",
    "    Classifies the image and returns the predicted labels.\n",
    "    \"\"\"\n",
    "    # Load the pre-trained MobileNetV2 model\n",
    "    model = MobileNetV2(weights='imagenet')\n",
    "\n",
    "    # Make a prediction\n",
    "    predictions = model.predict(img_array)\n",
    "\n",
    "    # Decode the predictions (get human-readable class labels)\n",
    "    decoded_predictions = decode_predictions(predictions, top=3)[0]  # Get top 3 predictions\n",
    "    return decoded_predictions\n",
    "\n",
    "# Step 4: Display the image and predictions\n",
    "def display_results(img, predictions):\n",
    "    \"\"\"\n",
    "    Displays the image along with the top 3 predicted labels.\n",
    "    \"\"\"\n",
    "    # Display the image\n",
    "    plt.imshow(img)\n",
    "    plt.axis('off')  # Hide axes for a cleaner view\n",
    "    plt.show()\n",
    "\n",
    "    # Print the top 3 predictions\n",
    "    print(\"Top 3 Predictions:\")\n",
    "    for i, (imagenet_id, label, score) in enumerate(predictions):\n",
    "        print(f\"{i+1}. {label}: {score*100:.2f}%\")\n",
    "\n",
    "\n",
    "# Get image URL from user input\n",
    "url = input(\"Enter the image URL: \")\n",
    "\n",
    "# Fetch the image from URL\n",
    "img = fetch_image_from_url(url)\n",
    "\n",
    "# Preprocess the image for MobileNetV2\n",
    "img_array = preprocess_image(img)\n",
    "\n",
    "# Classify the image using MobileNetV2\n",
    "predictions = classify_image(img_array)\n",
    "\n",
    "# Display the image and predictions\n",
    "display_results(img, predictions) \n",
    "\n"
   ]
  },
  {
   "cell_type": "code",
   "execution_count": null,
   "id": "94292ffd-ca34-443f-8b30-b480b730084c",
   "metadata": {},
   "outputs": [],
   "source": []
  }
 ],
 "metadata": {
  "kernelspec": {
   "display_name": "Python 3 (ipykernel)",
   "language": "python",
   "name": "python3"
  },
  "language_info": {
   "codemirror_mode": {
    "name": "ipython",
    "version": 3
   },
   "file_extension": ".py",
   "mimetype": "text/x-python",
   "name": "python",
   "nbconvert_exporter": "python",
   "pygments_lexer": "ipython3",
   "version": "3.12.7"
  }
 },
 "nbformat": 4,
 "nbformat_minor": 5
}
